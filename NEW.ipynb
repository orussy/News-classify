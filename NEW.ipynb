{
 "cells": [
  {
   "cell_type": "markdown",
   "id": "17ce37b2",
   "metadata": {},
   "source": [
    "# Natural Language Processing Project\n",
    "   ## News classification model"
   ]
  },
  {
   "cell_type": "code",
   "execution_count": 1,
   "id": "17643c3e",
   "metadata": {},
   "outputs": [],
   "source": [
    "import pandas as pd\n",
    "import numpy as np\n",
    "from sklearn import metrics\n",
    "import matplotlib.pyplot as plt\n",
    "import re\n",
    "import nltk\n",
    "import string as st\n",
    "from nltk.corpus import stopwords\n",
    "from nltk.stem import WordNetLemmatizer\n",
    "from nltk.tokenize import word_tokenize\n",
    "from wordcloud import WordCloud\n",
    "from sklearn.feature_extraction.text import CountVectorizer\n",
    "from sklearn.model_selection import train_test_split\n",
    "from sklearn.metrics import classification_report\n",
    "from sklearn.naive_bayes import MultinomialNB\n",
    "%matplotlib inline\n",
    "import tkinter as tk\n",
    "import customtkinter"
   ]
  },
  {
   "cell_type": "code",
   "execution_count": 2,
   "id": "3aeeeea8",
   "metadata": {
    "scrolled": false
   },
   "outputs": [
    {
     "data": {
      "text/html": [
       "<div>\n",
       "<style scoped>\n",
       "    .dataframe tbody tr th:only-of-type {\n",
       "        vertical-align: middle;\n",
       "    }\n",
       "\n",
       "    .dataframe tbody tr th {\n",
       "        vertical-align: top;\n",
       "    }\n",
       "\n",
       "    .dataframe thead th {\n",
       "        text-align: right;\n",
       "    }\n",
       "</style>\n",
       "<table border=\"1\" class=\"dataframe\">\n",
       "  <thead>\n",
       "    <tr style=\"text-align: right;\">\n",
       "      <th></th>\n",
       "      <th>ArticleId</th>\n",
       "      <th>Text</th>\n",
       "      <th>Category</th>\n",
       "    </tr>\n",
       "  </thead>\n",
       "  <tbody>\n",
       "    <tr>\n",
       "      <th>0</th>\n",
       "      <td>1833</td>\n",
       "      <td>worldcom ex-boss launches defence lawyers defe...</td>\n",
       "      <td>business</td>\n",
       "    </tr>\n",
       "    <tr>\n",
       "      <th>1</th>\n",
       "      <td>154</td>\n",
       "      <td>german business confidence slides german busin...</td>\n",
       "      <td>business</td>\n",
       "    </tr>\n",
       "    <tr>\n",
       "      <th>2</th>\n",
       "      <td>1101</td>\n",
       "      <td>bbc poll indicates economic gloom citizens in ...</td>\n",
       "      <td>business</td>\n",
       "    </tr>\n",
       "    <tr>\n",
       "      <th>3</th>\n",
       "      <td>1976</td>\n",
       "      <td>lifestyle  governs mobile choice  faster  bett...</td>\n",
       "      <td>tech</td>\n",
       "    </tr>\n",
       "    <tr>\n",
       "      <th>4</th>\n",
       "      <td>917</td>\n",
       "      <td>enron bosses in $168m payout eighteen former e...</td>\n",
       "      <td>business</td>\n",
       "    </tr>\n",
       "  </tbody>\n",
       "</table>\n",
       "</div>"
      ],
      "text/plain": [
       "   ArticleId                                               Text  Category\n",
       "0       1833  worldcom ex-boss launches defence lawyers defe...  business\n",
       "1        154  german business confidence slides german busin...  business\n",
       "2       1101  bbc poll indicates economic gloom citizens in ...  business\n",
       "3       1976  lifestyle  governs mobile choice  faster  bett...      tech\n",
       "4        917  enron bosses in $168m payout eighteen former e...  business"
      ]
     },
     "execution_count": 2,
     "metadata": {},
     "output_type": "execute_result"
    }
   ],
   "source": [
    "df = pd.read_csv(r'D:\\datasets\\BBC News Train.csv')\n",
    "pd.options.display.max_columns=None\n",
    "df.head()\n"
   ]
  },
  {
   "cell_type": "markdown",
   "id": "4cf29087",
   "metadata": {},
   "source": [
    "# check if we have duplicated rows"
   ]
  },
  {
   "cell_type": "code",
   "execution_count": 3,
   "id": "b01c6164",
   "metadata": {},
   "outputs": [
    {
     "data": {
      "text/plain": [
       "0"
      ]
     },
     "execution_count": 3,
     "metadata": {},
     "output_type": "execute_result"
    }
   ],
   "source": [
    "df.duplicated().sum()"
   ]
  },
  {
   "cell_type": "code",
   "execution_count": 4,
   "id": "f22e769f",
   "metadata": {},
   "outputs": [
    {
     "data": {
      "text/plain": [
       "(1490, 3)"
      ]
     },
     "execution_count": 4,
     "metadata": {},
     "output_type": "execute_result"
    }
   ],
   "source": [
    "df.shape"
   ]
  },
  {
   "cell_type": "markdown",
   "id": "1024a47b",
   "metadata": {},
   "source": [
    "# atternative to info"
   ]
  },
  {
   "cell_type": "code",
   "execution_count": 5,
   "id": "3f27c0e9",
   "metadata": {
    "scrolled": true
   },
   "outputs": [
    {
     "data": {
      "text/html": [
       "<div>\n",
       "<style scoped>\n",
       "    .dataframe tbody tr th:only-of-type {\n",
       "        vertical-align: middle;\n",
       "    }\n",
       "\n",
       "    .dataframe tbody tr th {\n",
       "        vertical-align: top;\n",
       "    }\n",
       "\n",
       "    .dataframe thead th {\n",
       "        text-align: right;\n",
       "    }\n",
       "</style>\n",
       "<table border=\"1\" class=\"dataframe\">\n",
       "  <thead>\n",
       "    <tr style=\"text-align: right;\">\n",
       "      <th></th>\n",
       "      <th>Columns</th>\n",
       "      <th>Data Types</th>\n",
       "      <th>Unique values</th>\n",
       "      <th>Number of unique</th>\n",
       "      <th>missing values</th>\n",
       "    </tr>\n",
       "  </thead>\n",
       "  <tbody>\n",
       "    <tr>\n",
       "      <th>0</th>\n",
       "      <td>ArticleId</td>\n",
       "      <td>int64</td>\n",
       "      <td>[1833, 154, 1101, 1976, 917, 1582, 651, 1797, ...</td>\n",
       "      <td>1490</td>\n",
       "      <td>0</td>\n",
       "    </tr>\n",
       "    <tr>\n",
       "      <th>1</th>\n",
       "      <td>Text</td>\n",
       "      <td>object</td>\n",
       "      <td>[worldcom ex-boss launches defence lawyers def...</td>\n",
       "      <td>1440</td>\n",
       "      <td>0</td>\n",
       "    </tr>\n",
       "    <tr>\n",
       "      <th>2</th>\n",
       "      <td>Category</td>\n",
       "      <td>object</td>\n",
       "      <td>[business, tech, politics, sport, entertainment]</td>\n",
       "      <td>5</td>\n",
       "      <td>0</td>\n",
       "    </tr>\n",
       "  </tbody>\n",
       "</table>\n",
       "</div>"
      ],
      "text/plain": [
       "     Columns Data Types                                      Unique values  \\\n",
       "0  ArticleId      int64  [1833, 154, 1101, 1976, 917, 1582, 651, 1797, ...   \n",
       "1       Text     object  [worldcom ex-boss launches defence lawyers def...   \n",
       "2   Category     object   [business, tech, politics, sport, entertainment]   \n",
       "\n",
       "   Number of unique  missing values  \n",
       "0              1490               0  \n",
       "1              1440               0  \n",
       "2                 5               0  "
      ]
     },
     "execution_count": 5,
     "metadata": {},
     "output_type": "execute_result"
    }
   ],
   "source": [
    "def columns_info(df):\n",
    "    colms = []\n",
    "    dtypes = []\n",
    "    unique = []\n",
    "    nunique = []\n",
    "    nulls = []\n",
    "    \n",
    "    for colm in df.columns:\n",
    "        colms.append(colm)\n",
    "        dtypes.append(df[colm].dtypes)\n",
    "        unique.append(df[colm].unique())\n",
    "        nunique.append(df[colm].nunique())\n",
    "        nulls.append(df[colm].isna().sum())\n",
    "        \n",
    "    return pd.DataFrame({'Columns':colms ,\n",
    "                         'Data Types': dtypes,\n",
    "                         'Unique values':unique,\n",
    "                         'Number of unique': nunique,\n",
    "                         'missing values':nulls})  \n",
    "columns_info(df)"
   ]
  },
  {
   "cell_type": "markdown",
   "id": "981510eb",
   "metadata": {},
   "source": [
    "# preprocessing"
   ]
  },
  {
   "cell_type": "markdown",
   "id": "321d0265",
   "metadata": {},
   "source": [
    "## 1-text"
   ]
  },
  {
   "cell_type": "code",
   "execution_count": 6,
   "id": "359c7cb6",
   "metadata": {},
   "outputs": [],
   "source": [
    "def remove_tags(text):\n",
    "  remove = re.compile(r'<.*?>')\n",
    "  return re.sub(remove, '', text)\n",
    "def special_char(text):\n",
    "  reviews = ''\n",
    "  for x in text:\n",
    "    if x.isalnum():\n",
    "      reviews = reviews + x\n",
    "    else:\n",
    "      reviews = reviews + ' '\n",
    "  return reviews\n",
    "def remove_stopwords(text):\n",
    "  stop_words = set(stopwords.words('english'))\n",
    "  words = word_tokenize(text)\n",
    "  return [x for x in words if x not in stop_words]\n",
    "def lemmatize_word(text):\n",
    "  wordnet = WordNetLemmatizer()\n",
    "  return \" \".join([wordnet.lemmatize(word) for word in text])\n",
    "def convert_lower(text):\n",
    "    return text.lower()\n",
    "def remove_punc(txt):\n",
    "    txt_nopunt=\"\".join([c for c in txt if c not in st.punctuation])\n",
    "    return txt_nopunt"
   ]
  },
  {
   "cell_type": "code",
   "execution_count": 7,
   "id": "9e9e75b8",
   "metadata": {
    "scrolled": false
   },
   "outputs": [
    {
     "data": {
      "text/plain": [
       "0       worldcom exboss launch defence lawyer defendin...\n",
       "1       german business confidence slide german busine...\n",
       "2       bbc poll indicates economic gloom citizen majo...\n",
       "3       lifestyle governs mobile choice faster better ...\n",
       "4       enron boss 168m payout eighteen former enron d...\n",
       "                              ...                        \n",
       "1485    double eviction big brother model caprice holb...\n",
       "1486    dj double act revamp chart show dj duo jk joel...\n",
       "1487    weak dollar hit reuters revenue medium group r...\n",
       "1488    apple ipod family expands market apple expande...\n",
       "1489    santy worm make unwelcome visit thousand websi...\n",
       "Name: Text, Length: 1490, dtype: object"
      ]
     },
     "execution_count": 7,
     "metadata": {},
     "output_type": "execute_result"
    }
   ],
   "source": [
    "df['Text']=df['Text'].apply(remove_tags)\n",
    "df['Text']=df['Text'].apply(remove_punc)\n",
    "df['Text']=df['Text'].apply(special_char)\n",
    "df['Text']=df['Text'].apply(convert_lower)\n",
    "df['Text']=df['Text'].apply(remove_stopwords)\n",
    "df['Text']=df['Text'].apply(lemmatize_word)\n",
    "df['Text']\n"
   ]
  },
  {
   "cell_type": "markdown",
   "id": "2ac76491",
   "metadata": {},
   "source": [
    "## 2-Category"
   ]
  },
  {
   "cell_type": "code",
   "execution_count": 8,
   "id": "3c4b310d",
   "metadata": {
    "scrolled": false
   },
   "outputs": [
    {
     "data": {
      "text/html": [
       "<div>\n",
       "<style scoped>\n",
       "    .dataframe tbody tr th:only-of-type {\n",
       "        vertical-align: middle;\n",
       "    }\n",
       "\n",
       "    .dataframe tbody tr th {\n",
       "        vertical-align: top;\n",
       "    }\n",
       "\n",
       "    .dataframe thead th {\n",
       "        text-align: right;\n",
       "    }\n",
       "</style>\n",
       "<table border=\"1\" class=\"dataframe\">\n",
       "  <thead>\n",
       "    <tr style=\"text-align: right;\">\n",
       "      <th></th>\n",
       "      <th>ArticleId</th>\n",
       "      <th>Text</th>\n",
       "      <th>Category</th>\n",
       "      <th>CategoryId</th>\n",
       "    </tr>\n",
       "  </thead>\n",
       "  <tbody>\n",
       "    <tr>\n",
       "      <th>0</th>\n",
       "      <td>1833</td>\n",
       "      <td>worldcom exboss launch defence lawyer defendin...</td>\n",
       "      <td>business</td>\n",
       "      <td>0</td>\n",
       "    </tr>\n",
       "    <tr>\n",
       "      <th>1</th>\n",
       "      <td>154</td>\n",
       "      <td>german business confidence slide german busine...</td>\n",
       "      <td>business</td>\n",
       "      <td>0</td>\n",
       "    </tr>\n",
       "    <tr>\n",
       "      <th>2</th>\n",
       "      <td>1101</td>\n",
       "      <td>bbc poll indicates economic gloom citizen majo...</td>\n",
       "      <td>business</td>\n",
       "      <td>0</td>\n",
       "    </tr>\n",
       "    <tr>\n",
       "      <th>3</th>\n",
       "      <td>1976</td>\n",
       "      <td>lifestyle governs mobile choice faster better ...</td>\n",
       "      <td>tech</td>\n",
       "      <td>1</td>\n",
       "    </tr>\n",
       "    <tr>\n",
       "      <th>4</th>\n",
       "      <td>917</td>\n",
       "      <td>enron boss 168m payout eighteen former enron d...</td>\n",
       "      <td>business</td>\n",
       "      <td>0</td>\n",
       "    </tr>\n",
       "  </tbody>\n",
       "</table>\n",
       "</div>"
      ],
      "text/plain": [
       "   ArticleId                                               Text  Category  \\\n",
       "0       1833  worldcom exboss launch defence lawyer defendin...  business   \n",
       "1        154  german business confidence slide german busine...  business   \n",
       "2       1101  bbc poll indicates economic gloom citizen majo...  business   \n",
       "3       1976  lifestyle governs mobile choice faster better ...      tech   \n",
       "4        917  enron boss 168m payout eighteen former enron d...  business   \n",
       "\n",
       "   CategoryId  \n",
       "0           0  \n",
       "1           0  \n",
       "2           0  \n",
       "3           1  \n",
       "4           0  "
      ]
     },
     "execution_count": 8,
     "metadata": {},
     "output_type": "execute_result"
    }
   ],
   "source": [
    "df['CategoryId'] = df['Category'].factorize()[0]\n",
    "df.head()"
   ]
  },
  {
   "cell_type": "markdown",
   "id": "0ef6336b",
   "metadata": {},
   "source": [
    "# Category visualization\n"
   ]
  },
  {
   "cell_type": "code",
   "execution_count": 9,
   "id": "9f8fe3c3",
   "metadata": {
    "scrolled": false
   },
   "outputs": [
    {
     "data": {
      "image/png": "[encoded data removed]",
      "text/plain": [
       "<Figure size 640x480 with 1 Axes>"
      ]
     },
     "metadata": {},
     "output_type": "display_data"
    }
   ],
   "source": [
    "df.groupby('Category').CategoryId.value_counts().plot(kind = \"bar\")\n",
    "plt.xlabel(\"Category of data\")\n",
    "plt.title(\"Visulaize numbers of Category of data\")\n",
    "plt.show()"
   ]
  },
  {
   "cell_type": "markdown",
   "id": "23b6cbbc",
   "metadata": {},
   "source": [
    "# machinelearning Part"
   ]
  },
  {
   "cell_type": "code",
   "execution_count": 11,
   "id": "bf617e07",
   "metadata": {},
   "outputs": [],
   "source": [
    "x = df['Text']\n",
    "y = df['CategoryId']"
   ]
  },
  {
   "cell_type": "code",
   "execution_count": 20,
   "id": "d4deedfd",
   "metadata": {},
   "outputs": [
    {
     "name": "stdout",
     "output_type": "stream",
     "text": [
      "X.shape =  (1490, 5000)\n",
      "y.shape =  (1490,)\n"
     ]
    }
   ],
   "source": [
    "x = np.array(df.Text.values)\n",
    "y = np.array(df.CategoryId.values)\n",
    "cv = CountVectorizer(max_features = 5000)\n",
    "x = cv.fit_transform(df.Text).toarray()\n",
    "print(\"X.shape = \",x.shape)\n",
    "print(\"y.shape = \",y.shape)"
   ]
  },
  {
   "cell_type": "code",
   "execution_count": 21,
   "id": "09cbe2cf",
   "metadata": {},
   "outputs": [
    {
     "data": {
      "text/plain": [
       "array([[0, 0, 0, ..., 0, 0, 0],\n",
       "       [0, 0, 0, ..., 0, 0, 0],\n",
       "       [1, 0, 0, ..., 0, 0, 0],\n",
       "       ...,\n",
       "       [0, 0, 0, ..., 0, 0, 0],\n",
       "       [0, 0, 0, ..., 0, 0, 0],\n",
       "       [1, 0, 0, ..., 0, 0, 0]], dtype=int64)"
      ]
     },
     "execution_count": 21,
     "metadata": {},
     "output_type": "execute_result"
    }
   ],
   "source": [
    "x"
   ]
  },
  {
   "cell_type": "code",
   "execution_count": 22,
   "id": "fc935df3",
   "metadata": {
    "scrolled": true
   },
   "outputs": [
    {
     "name": "stdout",
     "output_type": "stream",
     "text": [
      "1192\n",
      "298\n"
     ]
    }
   ],
   "source": [
    "x_train, x_test, y_train, y_test = train_test_split(x, y, test_size=0.2, random_state=42)\n",
    "print(len(x_train))\n",
    "print(len(x_test))"
   ]
  },
  {
   "cell_type": "code",
   "execution_count": 23,
   "id": "63fbdf31",
   "metadata": {
    "scrolled": true
   },
   "outputs": [
    {
     "name": "stdout",
     "output_type": "stream",
     "text": [
      "              precision    recall  f1-score   support\n",
      "\n",
      "           0       0.97      0.97      0.97        75\n",
      "           1       0.97      0.97      0.97        58\n",
      "           2       0.95      0.96      0.96        56\n",
      "           3       1.00      1.00      1.00        63\n",
      "           4       1.00      0.98      0.99        46\n",
      "\n",
      "    accuracy                           0.98       298\n",
      "   macro avg       0.98      0.98      0.98       298\n",
      "weighted avg       0.98      0.98      0.98       298\n",
      "\n"
     ]
    }
   ],
   "source": [
    "classifier = MultinomialNB().fit(x_train, y_train)\n",
    "classifier\n",
    "y_pred = classifier.predict(x_test)\n",
    "y_pred\n",
    "print(metrics.classification_report(y_test, y_pred))"
   ]
  },
  {
   "cell_type": "markdown",
   "id": "508d5b42",
   "metadata": {},
   "source": [
    "# GUI part"
   ]
  },
  {
   "cell_type": "code",
   "execution_count": 27,
   "id": "f5e452d5",
   "metadata": {},
   "outputs": [],
   "source": [
    "root=customtkinter.CTk()\n",
    "root.geometry(\"1150x400\")\n",
    "root.title(\"News Classifcation\")\n",
    "\n",
    "customtkinter.set_default_color_theme(\"dark-blue\")\n",
    "\n",
    "label1 = customtkinter.CTkLabel(root,text=\"Enter news\",font=(\"Arial\", 16),text_color=\"white\")\n",
    "\n",
    "label2 = tk.Label(root, text=\"\", font=(\"Arial\", 16),fg=\"white\",bg=\"#1a1a1a\")\n",
    "\n",
    "entry = customtkinter.CTkTextbox(root,width=850)\n",
    "\n",
    "def predict():\n",
    "    label2.config(text=\"\")\n",
    "    \n",
    "    text = entry.get(\"1.0\", \"end-1c\")\n",
    "    if text==\"\":\n",
    "        label2.config(text=\"NO DATA ENTERED\")\n",
    "    else:\n",
    "            text = cv.transform([text])\n",
    "            prediction = classifier.predict(text)\n",
    "            if prediction == [0]:\n",
    "                label2.config(text=\"Business News\")\n",
    "            elif prediction == [1]:\n",
    "                label2.config(text=\"Tech News\")\n",
    "            elif prediction == [2]:\n",
    "                label2.config(text=\"Politics News\")\n",
    "            elif prediction == [3]:\n",
    "                label2.config(text=\"Sports News\")\n",
    "            elif prediction == [4]:\n",
    "                label2.config(text=\"Entertainment News\")\n",
    "\n",
    "        \n",
    "button = customtkinter.CTkButton(root,font=(\"Arial\", 16) ,text=\"Predict\",command=predict,text_color=\"white\")\n",
    "\n",
    "label1.place(x=400,y=10)\n",
    "entry.place(x=20,y=60)\n",
    "button.place(x=955,y=235)\n",
    "label2.place(x=920,y=150)\n",
    "root.mainloop()"
   ]
  },
  {
   "cell_type": "code",
   "execution_count": null,
   "id": "c35f7b15",
   "metadata": {},
   "outputs": [],
   "source": []
  },
  {
   "cell_type": "code",
   "execution_count": null,
   "id": "3ffe88d0",
   "metadata": {},
   "outputs": [],
   "source": []
  }
 ],
 "metadata": {
  "kernelspec": {
   "display_name": "Python 3 (ipykernel)",
   "language": "python",
   "name": "python3"
  },
  "language_info": {
   "codemirror_mode": {
    "name": "ipython",
    "version": 3
   },
   "file_extension": ".py",
   "mimetype": "text/x-python",
   "name": "python",
   "nbconvert_exporter": "python",
   "pygments_lexer": "ipython3",
   "version": "3.10.9"
  }
 },
 "nbformat": 4,
 "nbformat_minor": 5
}
